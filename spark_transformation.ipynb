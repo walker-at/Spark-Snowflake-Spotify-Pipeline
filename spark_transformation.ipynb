{
	"metadata": {
		"kernelspec": {
			"name": "glue_pyspark",
			"display_name": "Glue PySpark",
			"language": "python"
		},
		"language_info": {
			"name": "Python_Glue_Session",
			"mimetype": "text/x-python",
			"codemirror_mode": {
				"name": "python",
				"version": 3
			},
			"pygments_lexer": "python3",
			"file_extension": ".py"
		}
	},
	"nbformat_minor": 4,
	"nbformat": 4,
	"cells": [
		{
			"cell_type": "code",
			"source": "%idle_timeout 2880\n%glue_version 4.0\n%worker_type G.1X\n%number_of_workers 5\n\nimport sys\nfrom awsglue.transforms import *\nfrom awsglue.utils import getResolvedOptions\nfrom pyspark.context import SparkContext\nfrom awsglue.context import GlueContext\nfrom awsglue.job import Job\n  \nsc = SparkContext.getOrCreate()\nglueContext = GlueContext(sc)\nspark = glueContext.spark_session\njob = Job(glueContext)",
			"metadata": {
				"trusted": true,
				"editable": true
			},
			"execution_count": 6,
			"outputs": [
				{
					"name": "stderr",
					"text": "You are already connected to a glueetl session 0b8f5907-1d0d-47ae-a141-9a93a8338e15.\n\nNo change will be made to the current session that is set as glueetl. The session configuration change will apply to newly created sessions.\n",
					"output_type": "stream"
				},
				{
					"name": "stdout",
					"text": "Current idle_timeout is None minutes.\nidle_timeout has been set to 2880 minutes.\n",
					"output_type": "stream"
				},
				{
					"name": "stderr",
					"text": "You are already connected to a glueetl session 0b8f5907-1d0d-47ae-a141-9a93a8338e15.\n\nNo change will be made to the current session that is set as glueetl. The session configuration change will apply to newly created sessions.\n",
					"output_type": "stream"
				},
				{
					"name": "stdout",
					"text": "Setting Glue version to: 4.0\n",
					"output_type": "stream"
				},
				{
					"name": "stderr",
					"text": "You are already connected to a glueetl session 0b8f5907-1d0d-47ae-a141-9a93a8338e15.\n\nNo change will be made to the current session that is set as glueetl. The session configuration change will apply to newly created sessions.\n",
					"output_type": "stream"
				},
				{
					"name": "stdout",
					"text": "Previous worker type: None\nSetting new worker type to: G.1X\n",
					"output_type": "stream"
				},
				{
					"name": "stderr",
					"text": "You are already connected to a glueetl session 0b8f5907-1d0d-47ae-a141-9a93a8338e15.\n\nNo change will be made to the current session that is set as glueetl. The session configuration change will apply to newly created sessions.\n",
					"output_type": "stream"
				},
				{
					"name": "stdout",
					"text": "Previous number of workers: None\nSetting new number of workers to: 5\n\n",
					"output_type": "stream"
				}
			]
		},
		{
			"cell_type": "code",
			"source": "from pyspark.sql.functions import explode, col, to_date\nfrom datetime import datetime\nfrom awsglue.dynamicframe import DynamicFrame",
			"metadata": {
				"trusted": true,
				"tags": []
			},
			"execution_count": 31,
			"outputs": [
				{
					"name": "stdout",
					"text": "\n",
					"output_type": "stream"
				}
			]
		},
		{
			"cell_type": "code",
			"source": "s3_path = \"s3://spotify-etl-walker/raw_data/to_processed/\"\nsource_dyf = glueContext.create_dynamic_frame_from_options(\n    connection_type=\"s3\",\n    connection_options={\"paths\":[s3_path]},\n    format=\"json\"\n)        ",
			"metadata": {
				"trusted": true,
				"tags": []
			},
			"execution_count": 21,
			"outputs": [
				{
					"name": "stdout",
					"text": "\n",
					"output_type": "stream"
				}
			]
		},
		{
			"cell_type": "code",
			"source": "spotify_df = source_dyf.toDF()",
			"metadata": {
				"trusted": true,
				"tags": []
			},
			"execution_count": 22,
			"outputs": [
				{
					"name": "stdout",
					"text": "\n",
					"output_type": "stream"
				}
			]
		},
		{
			"cell_type": "code",
			"source": "def process_albums(df):\n    df = df.withColumn(\"items\", explode(\"items\")).select(\n        col(\"items.track.album.id\").alias(\"album_id\"),\n        col(\"items.track.album.name\").alias(\"album_name\"),\n        col(\"items.track.album.release_date\").alias(\"release_date\"),\n        col(\"items.track.album.total_tracks\").alias(\"total_tracks\"),\n        col(\"items.track.album.external_urls.spotify\").alias(\"url\")\n    ).drop_duplicates([\"album_id\"])\n    return df\n\n\ndef process_artists(df):\n    # First, explode the items to get individual tracks\n    df_items_exploded = df.select(explode(col(\"items\")).alias(\"item\"))\n    \n    # Then, explode the artists array within each item to create a row for each artist\n    df_artists_exploded = df_items_exploded.select(explode(col(\"item.track.artists\")).alias(\"artist\"))\n    \n    # Now, select the artist attributes, ensuring each artist is in its own row\n    df_artists = df_artists_exploded.select(\n        col(\"artist.id\").alias(\"artist_id\"),\n        col(\"artist.name\").alias(\"artist_name\"),\n        col(\"artist.external_urls.spotify\").alias(\"external_url\")\n    ).drop_duplicates([\"artist_id\"])\n    \n    return df_artists\n\n\ndef process_songs(df):\n    # Explode the items array to create a row for each song\n    df_exploded = df.select(explode(col(\"items\")).alias(\"item\"))\n    \n    # Extract song information from the exploded DataFrame\n    df_songs = df_exploded.select(\n        col(\"item.track.id\").alias(\"song_id\"),\n        col(\"item.track.name\").alias(\"song_name\"),\n        col(\"item.track.duration_ms\").alias(\"duration_ms\"),\n        col(\"item.track.external_urls.spotify\").alias(\"url\"),\n        col(\"item.track.popularity\").alias(\"popularity\"),\n        col(\"item.added_at\").alias(\"song_added\"),\n        col(\"item.track.album.id\").alias(\"album_id\"),\n        col(\"item.track.artists\")[0][\"id\"].alias(\"artist_id\")\n    ).drop_duplicates([\"song_id\"])\n    \n    # Convert string dates in 'song_added' to actual date types\n    df_songs = df_songs.withColumn(\"song_added\", to_date(col(\"song_added\")))\n    \n    return df_songs\n",
			"metadata": {
				"trusted": true,
				"tags": []
			},
			"execution_count": 23,
			"outputs": [
				{
					"name": "stdout",
					"text": "\n",
					"output_type": "stream"
				}
			]
		},
		{
			"cell_type": "code",
			"source": "album_df = process_albums(spotify_df)\nalbum_df.show(5)",
			"metadata": {
				"trusted": true,
				"tags": []
			},
			"execution_count": 24,
			"outputs": [
				{
					"name": "stdout",
					"text": "+--------------------+--------------------+------------+------------+--------------------+\n|            album_id|          album_name|release_date|total_tracks|                 url|\n+--------------------+--------------------+------------+------------+--------------------+\n|0DLvFVIfwt3OHdK9k...|Where I've Been, ...|  2024-05-31|          12|https://open.spot...|\n|0QZVRL2HC24voXfxW...|             Madonna|  2024-03-08|           1|https://open.spot...|\n|0lgs2Sa82lyX89nBU...|      FERXXOCALIPSIS|  2023-12-01|          10|https://open.spot...|\n|168CdR21lfn0TTyw1...|Fireworks & Rolle...|  2024-04-05|          15|https://open.spot...|\n|18NOKLkZETa4sWwLM...|              UTOPIA|  2023-07-28|          19|https://open.spot...|\n+--------------------+--------------------+------------+------------+--------------------+\nonly showing top 5 rows\n",
					"output_type": "stream"
				}
			]
		},
		{
			"cell_type": "code",
			"source": "artist_df = process_artists(spotify_df)\nartist_df.show(5)",
			"metadata": {
				"trusted": true,
				"tags": []
			},
			"execution_count": 25,
			"outputs": [
				{
					"name": "stdout",
					"text": "+--------------------+-------------+--------------------+\n|           artist_id|  artist_name|        external_url|\n+--------------------+-------------+--------------------+\n|06HL4z0CvFAxyc27G...| Taylor Swift|https://open.spot...|\n|0PCCGZ0wGLizHt2KZ...|      Artemas|https://open.spot...|\n|0Y5tJX1MQlPlqiwlO...| Travis Scott|https://open.spot...|\n|0du5cEVh5yTK9QJze...|   Bruno Mars|https://open.spot...|\n|0elWFr7TW8piilVRY...|Natanael Cano|https://open.spot...|\n+--------------------+-------------+--------------------+\nonly showing top 5 rows\n",
					"output_type": "stream"
				}
			]
		},
		{
			"cell_type": "code",
			"source": "song_df = process_songs(spotify_df)\nsong_df.show(5)",
			"metadata": {
				"trusted": true,
				"tags": []
			},
			"execution_count": 26,
			"outputs": [
				{
					"name": "stdout",
					"text": "+--------------------+----------------+-----------+--------------------+----------+----------+--------------------+--------------------+\n|             song_id|       song_name|duration_ms|                 url|popularity|song_added|            album_id|           artist_id|\n+--------------------+----------------+-----------+--------------------+----------+----------+--------------------+--------------------+\n|0WbMK4wrZ1wFSty9F...|Good Luck, Babe!|     218423|https://open.spot...|        91|2024-06-03|1WAjjRMfZjEXtB0lQ...|7GlBOeep6PqTfFi59...|\n|0mflMxspEfB0VbI1k...|    Stick Season|     182346|https://open.spot...|        92|2024-06-03|50ZenUP4O2Q5eCy2N...|2RQXRUsr4IW1f3mKy...|\n|17phhZDn6oGtzMe56...|    Lose Control|     210688|https://open.spot...|        92|2024-06-03|7nacKlk586eLRBSIs...|33qOK5uJ8AR2xuQQA...|\n|1BxfuPKGuaTgP7aM0...|    Cruel Summer|     178426|https://open.spot...|        94|2024-06-03|1NAmidJlEaVgA3Mpc...|06HL4z0CvFAxyc27G...|\n|1C84d9abZVKWHT2YY...|Si No Quieres No|     147011|https://open.spot...|        89|2024-06-03|6WkOBnYkj6y5iSr14...|0pePYDrJGk8gqMRbX...|\n+--------------------+----------------+-----------+--------------------+----------+----------+--------------------+--------------------+\nonly showing top 5 rows\n",
					"output_type": "stream"
				}
			]
		},
		{
			"cell_type": "code",
			"source": "def write_to_s3(df, path_suffix, format_type=\"csv\"):\n    # Convert back to DynamicFrame\n    dynamic_frame = DynamicFrame.fromDF(df, glueContext, \"dynamic_frame\")\n    \n    glueContext.write_dynamic_frame.from_options(\n        frame = dynamic_frame,\n        connection_type = \"s3\",\n        connection_options = {\"path\": f\"s3://spotify-etl-walker/transformed_data/{path_suffix}/\"},\n        format = format_type\n    )",
			"metadata": {
				"trusted": true,
				"tags": []
			},
			"execution_count": 42,
			"outputs": [
				{
					"name": "stdout",
					"text": "\n",
					"output_type": "stream"
				}
			]
		},
		{
			"cell_type": "code",
			"source": "write_to_s3(album_df, \"album_data/album_transformed_{}\".format(datetime.now().strftime(\"%Y-%m-%d\")), \"csv\")",
			"metadata": {
				"trusted": true,
				"tags": []
			},
			"execution_count": 43,
			"outputs": [
				{
					"name": "stdout",
					"text": "\n",
					"output_type": "stream"
				}
			]
		},
		{
			"cell_type": "code",
			"source": "write_to_s3(artist_df, \"artist_data/artist_transformed_{}\".format(datetime.now().strftime(\"%Y-%m-%d\")), \"csv\")",
			"metadata": {
				"trusted": true,
				"tags": []
			},
			"execution_count": 44,
			"outputs": [
				{
					"name": "stdout",
					"text": "\n",
					"output_type": "stream"
				}
			]
		},
		{
			"cell_type": "code",
			"source": "write_to_s3(song_df, \"songs_data/songs_transformed_{}\".format(datetime.now().strftime(\"%Y-%m-%d\")), \"csv\")",
			"metadata": {
				"trusted": true,
				"tags": []
			},
			"execution_count": 45,
			"outputs": [
				{
					"name": "stdout",
					"text": "\n",
					"output_type": "stream"
				}
			]
		},
		{
			"cell_type": "code",
			"source": "",
			"metadata": {},
			"execution_count": null,
			"outputs": []
		}
	]
}